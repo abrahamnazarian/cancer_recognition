{
 "cells": [
  {
   "cell_type": "code",
   "execution_count": 337,
   "metadata": {
    "scrolled": true
   },
   "outputs": [
    {
     "name": "stdout",
     "output_type": "stream",
     "text": [
      "Test Accuracy = 0.990991 \n",
      "weighted Recall = 0.9909909909909911\n",
      "weighted Precision = 0.9912219912219913\n",
      "f1 = 0.991018425501184\n"
     ]
    }
   ],
   "source": [
    "#load required libraries\n",
    "import pyspark\n",
    "from pyspark.sql import Row\n",
    "from pyspark.ml.classification import LogisticRegression,DecisionTreeClassifier,RandomForestClassifier,GBTClassifier,NaiveBayes,MultilayerPerceptronClassifier\n",
    "from pyspark.ml.linalg import Vectors\n",
    "from pyspark.ml.evaluation import MulticlassClassificationEvaluator\n",
    "\n",
    "#load data \n",
    "data=sc.textFile(\"data.csv\")\n",
    "\n",
    "#Perform ETL\n",
    "df=data.map(lambda line: line.split(\",\")).filter(lambda line: \"target\" not in line[-1]).map(lambda line: [float((c.strip('\"').strip(\" \"))) for c in line]).map(lambda line: Row(features=Vectors.dense(line[0:-1]),label=int(line[-1])));\n",
    "df=spark.createDataFrame(df)\n",
    "\n",
    "#separate training and test data\n",
    "trainingData, testData = df.randomSplit([0.8, 0.2])\n",
    "\n",
    "#Multilayer perceptron\n",
    "layers = [30, 50, 40, 2]\n",
    "clf=MultilayerPerceptronClassifier(maxIter=100, layers=layers, blockSize=128, seed=1234)\n",
    "\n",
    "#Logistic regression\n",
    "clf = LogisticRegression(maxIter=10, regParam=0.3, elasticNetParam=0.8)\n",
    "\n",
    "#Decision trees\n",
    "clf = DecisionTreeClassifier()\n",
    "\n",
    "#Naive Bayes\n",
    "clf = NaiveBayes(smoothing=1.0, modelType=\"multinomial\")\n",
    "\n",
    "#Gradient bosted trees\n",
    "clf = GBTClassifier()\n",
    "\n",
    "#Random forest\n",
    "clf=RandomForestClassifier()\n",
    "\n",
    "\n",
    "#traing\n",
    "model = clf.fit(trainingData)\n",
    "\n",
    "#predict\n",
    "predictions = model.transform(testData)\n",
    "\n",
    "# Select (prediction, true label) and compute metrics\n",
    "accuracy = MulticlassClassificationEvaluator(labelCol=\"label\", predictionCol=\"prediction\", metricName=\"accuracy\").evaluate(predictions)\n",
    "weightedRecall = MulticlassClassificationEvaluator(labelCol=\"label\", predictionCol=\"prediction\", metricName=\"weightedRecall\").evaluate(predictions)\n",
    "weightedPrecision = MulticlassClassificationEvaluator(labelCol=\"label\", predictionCol=\"prediction\", metricName=\"weightedPrecision\").evaluate(predictions)\n",
    "f1 = MulticlassClassificationEvaluator(labelCol=\"label\", predictionCol=\"prediction\", metricName=\"f1\").evaluate(predictions)\n",
    "\n",
    "#print out results\n",
    "print(\"Test Accuracy = %g \" % (accuracy))\n",
    "print(\"weighted Recall = %s\" % weightedRecall)\n",
    "print(\"weighted Precision = %s\" % weightedPrecision)\n",
    "print(\"f1 = %s\" % f1)\n"
   ]
  },
  {
   "cell_type": "code",
   "execution_count": null,
   "metadata": {
    "collapsed": true
   },
   "outputs": [],
   "source": []
  },
  {
   "cell_type": "code",
   "execution_count": null,
   "metadata": {
    "collapsed": true
   },
   "outputs": [],
   "source": []
  }
 ],
 "metadata": {
  "kernelspec": {
   "display_name": "Python 3",
   "language": "python",
   "name": "python3"
  },
  "language_info": {
   "codemirror_mode": {
    "name": "ipython",
    "version": 3
   },
   "file_extension": ".py",
   "mimetype": "text/x-python",
   "name": "python",
   "nbconvert_exporter": "python",
   "pygments_lexer": "ipython3",
   "version": "3.6.5"
  }
 },
 "nbformat": 4,
 "nbformat_minor": 2
}
